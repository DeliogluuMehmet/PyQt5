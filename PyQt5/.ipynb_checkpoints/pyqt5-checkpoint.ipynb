{
 "cells": [
  {
   "cell_type": "code",
   "execution_count": 3,
   "id": "ad5e144f",
   "metadata": {},
   "outputs": [],
   "source": [
    "import PyQt5"
   ]
  },
  {
   "cell_type": "markdown",
   "id": "8a85649d",
   "metadata": {},
   "source": [
    "## Uygulama Oluşturma"
   ]
  },
  {
   "cell_type": "code",
   "execution_count": 1,
   "id": "92d749d8",
   "metadata": {},
   "outputs": [],
   "source": [
    "from PyQt5 import QtWidgets\n",
    "from PyQt5.QtWidgets import QApplication , QMainWindow , QToolTip\n",
    "import sys\n",
    "from PyQt5.QtGui import QIcon "
   ]
  },
  {
   "cell_type": "code",
   "execution_count": 16,
   "id": "04dacc2f",
   "metadata": {},
   "outputs": [
    {
     "ename": "SystemExit",
     "evalue": "0",
     "output_type": "error",
     "traceback": [
      "An exception has occurred, use %tb to see the full traceback.\n",
      "\u001b[1;31mSystemExit\u001b[0m\u001b[1;31m:\u001b[0m 0\n"
     ]
    }
   ],
   "source": [
    "#pencere oluşturur\n",
    "def window():\n",
    "    app = QApplication(sys.argv)\n",
    "    win = QMainWindow()\n",
    "    \n",
    "    win.setWindowTitle('First Application')\n",
    "    win.setGeometry(200,200,500,500)\n",
    "    win.setWindowIcon(QIcon(\"py_icon.png\"))\n",
    "    win.setToolTip('my tool tip')\n",
    "    \n",
    "    win.show()\n",
    "    sys.exit(app.exec_())\n",
    "window()"
   ]
  },
  {
   "cell_type": "code",
   "execution_count": 7,
   "id": "d59c3d03",
   "metadata": {},
   "outputs": [
    {
     "name": "stdout",
     "output_type": "stream",
     "text": [
      "Butona tıklandı name: Mehmet surname: Delioğlu\n"
     ]
    },
    {
     "ename": "SystemExit",
     "evalue": "0",
     "output_type": "error",
     "traceback": [
      "An exception has occurred, use %tb to see the full traceback.\n",
      "\u001b[1;31mSystemExit\u001b[0m\u001b[1;31m:\u001b[0m 0\n"
     ]
    }
   ],
   "source": [
    "#pencere elemanları ekleme\n",
    "\n",
    "def window():\n",
    "    app = QApplication(sys.argv)\n",
    "    win = QMainWindow()\n",
    "    \n",
    "    win.setWindowTitle('First Application')\n",
    "    win.setGeometry(200,200,500,500)\n",
    "    win.setWindowIcon(QIcon(\"py_icon.png\"))\n",
    "    win.setToolTip('my tool tip')\n",
    "    \n",
    "    lbl_name = QtWidgets.QLabel(win)\n",
    "    lbl_name.setText('Adınız: ')\n",
    "    lbl_name.move(50 , 30)\n",
    "    \n",
    "    lbl_surname = QtWidgets.QLabel(win)\n",
    "    lbl_surname.setText('Soyadınız: ')\n",
    "    lbl_surname.move(50 , 70)\n",
    "    \n",
    "    txt_name = QtWidgets.QLineEdit(win)\n",
    "    txt_name.move(150 , 30)\n",
    "    \n",
    "    txt_surname = QtWidgets.QLineEdit(win)\n",
    "    txt_surname.move(150 , 70)\n",
    "    \n",
    "    def clicked(self):\n",
    "        print('Butona tıklandı name: ' + txt_name.text()+ \" \" + 'surname: ' + txt_surname.text())\n",
    "    \n",
    "    btn_save = QtWidgets.QPushButton(win)\n",
    "    btn_save.setText('Kaydet')\n",
    "    btn_save.move(150 , 110)\n",
    "    btn_save.clicked.connect(clicked)\n",
    "    \n",
    "    win.show()\n",
    "    sys.exit(app.exec_())\n",
    "window()"
   ]
  },
  {
   "cell_type": "code",
   "execution_count": 2,
   "id": "8f9255c1",
   "metadata": {},
   "outputs": [
    {
     "ename": "SystemExit",
     "evalue": "0",
     "output_type": "error",
     "traceback": [
      "An exception has occurred, use %tb to see the full traceback.\n",
      "\u001b[1;31mSystemExit\u001b[0m\u001b[1;31m:\u001b[0m 0\n"
     ]
    },
    {
     "name": "stderr",
     "output_type": "stream",
     "text": [
      "C:\\Users\\Mehmet_DELIOGLU\\anaconda3\\lib\\site-packages\\IPython\\core\\interactiveshell.py:3452: UserWarning: To exit: use 'exit', 'quit', or Ctrl-D.\n",
      "  warn(\"To exit: use 'exit', 'quit', or Ctrl-D.\", stacklevel=1)\n"
     ]
    }
   ],
   "source": [
    "#pencere sınıfının genişletilmesi\n",
    "\n",
    "#her şeyi içeride yazmak yerine bir sınıf içinde tanımlayacaz\n",
    "class MyWindow(QMainWindow):\n",
    "    def __init__(self):\n",
    "        super(MyWindow , self).__init__()\n",
    "        self.setWindowTitle('First Application')\n",
    "        self.setGeometry(200,200,500,500)\n",
    "        self.setWindowIcon(QIcon(\"py_icon.png\"))\n",
    "        self.setToolTip('my tool tip')\n",
    "        self.initUI()\n",
    "        \n",
    "    def initUI(self):\n",
    "        self.lbl_name = QtWidgets.QLabel(self)\n",
    "        self.lbl_name.setText('Adınız: ')\n",
    "        self.lbl_name.move(50 , 30)\n",
    "\n",
    "        self.lbl_surname = QtWidgets.QLabel(self)\n",
    "        self.lbl_surname.setText('Soyadınız: ')\n",
    "        self.lbl_surname.move(50 , 70)\n",
    "        \n",
    "        self.result = QtWidgets.QLabel(self)\n",
    "        self.result.setText('Sonuç: ')\n",
    "        self.result.resize(300 , 70)\n",
    "        self.result.move(150 , 150)\n",
    "\n",
    "        self.txt_name = QtWidgets.QLineEdit(self)\n",
    "        self.txt_name.move(150 , 30)\n",
    "        self.txt_name.resize(200 , 32)\n",
    "\n",
    "        self.txt_surname = QtWidgets.QLineEdit(self)\n",
    "        self.txt_surname.move(150 , 70)\n",
    "        self.txt_surname.resize(200 , 32)\n",
    "        \n",
    "        self.btn_save = QtWidgets.QPushButton(self)\n",
    "        self.btn_save.setText('Kaydet')\n",
    "        self.btn_save.move(150 , 110)\n",
    "        self.btn_save.clicked.connect(self.clicked)\n",
    "        \n",
    "    def clicked(self):\n",
    "        self.result.setText(\"ad: \" + self.txt_name.text() + \" soyad: \" + self.txt_surname.text())\n",
    "\n",
    "def window():\n",
    "    app = QApplication(sys.argv)\n",
    "    win = MyWindow()\n",
    "    win.show()\n",
    "    sys.exit(app.exec_())\n",
    "window()"
   ]
  },
  {
   "cell_type": "code",
   "execution_count": null,
   "id": "cbb2678d",
   "metadata": {},
   "outputs": [],
   "source": []
  },
  {
   "cell_type": "code",
   "execution_count": null,
   "id": "bc50cb58",
   "metadata": {},
   "outputs": [],
   "source": []
  }
 ],
 "metadata": {
  "kernelspec": {
   "display_name": "Python 3 (ipykernel)",
   "language": "python",
   "name": "python3"
  },
  "language_info": {
   "codemirror_mode": {
    "name": "ipython",
    "version": 3
   },
   "file_extension": ".py",
   "mimetype": "text/x-python",
   "name": "python",
   "nbconvert_exporter": "python",
   "pygments_lexer": "ipython3",
   "version": "3.9.7"
  }
 },
 "nbformat": 4,
 "nbformat_minor": 5
}
