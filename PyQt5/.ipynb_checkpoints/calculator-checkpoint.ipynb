{
 "cells": [
  {
   "cell_type": "code",
   "execution_count": 1,
   "id": "fd214de0",
   "metadata": {},
   "outputs": [],
   "source": [
    "from PyQt5 import QtWidgets\n",
    "from PyQt5.QtWidgets import QApplication , QMainWindow , QToolTip\n",
    "import sys\n",
    "from PyQt5.QtGui import QIcon"
   ]
  },
  {
   "cell_type": "code",
   "execution_count": 4,
   "id": "aee292ec",
   "metadata": {},
   "outputs": [
    {
     "ename": "SystemExit",
     "evalue": "0",
     "output_type": "error",
     "traceback": [
      "An exception has occurred, use %tb to see the full traceback.\n",
      "\u001b[1;31mSystemExit\u001b[0m\u001b[1;31m:\u001b[0m 0\n"
     ]
    }
   ],
   "source": [
    "class MainForm(QMainWindow):\n",
    "    def __init__(self):\n",
    "        super(MainForm , self).__init__()\n",
    "        \n",
    "        self.setWindowTitle(\"Calculator\")\n",
    "        self.setGeometry(200,200,500,500)\n",
    "        self.initUI()\n",
    "        \n",
    "    def initUI(self):\n",
    "        self.lbl_sayi1 = QtWidgets.QLabel(self)\n",
    "        self.lbl_sayi1.setText(\"Sayı 1: \")\n",
    "        self.lbl_sayi1.move(50,30)\n",
    "        \n",
    "        self.txt_sayi1 = QtWidgets.QLineEdit(self)\n",
    "        self.txt_sayi1.move(150 , 30)\n",
    "        self.txt_sayi1.resize(200 , 32)\n",
    "        \n",
    "        self.lbl_sayi2 = QtWidgets.QLabel(self)\n",
    "        self.lbl_sayi2.setText(\"Sayı 2: \")\n",
    "        self.lbl_sayi2.move(50,70)\n",
    "        \n",
    "        self.txt_sayi2 = QtWidgets.QLineEdit(self)\n",
    "        self.txt_sayi2.move(150 , 70)\n",
    "        self.txt_sayi2.resize(200 , 32)\n",
    "        \n",
    "        self.btn_topla = QtWidgets.QPushButton(self)\n",
    "        self.btn_topla.setText('Topla')\n",
    "        self.btn_topla.move(150 , 130)\n",
    "        self.btn_topla.clicked.connect(self.hesapla)\n",
    "        \n",
    "        self.btn_cikar = QtWidgets.QPushButton(self)\n",
    "        self.btn_cikar.setText('Çıkar')\n",
    "        self.btn_cikar.move(150 , 170)\n",
    "        self.btn_cikar.clicked.connect(self.hesapla)\n",
    "        \n",
    "        self.btn_carp = QtWidgets.QPushButton(self)\n",
    "        self.btn_carp.setText('Çarp')\n",
    "        self.btn_carp.move(150 , 210)\n",
    "        self.btn_carp.clicked.connect(self.hesapla)\n",
    "        \n",
    "        self.btn_bol = QtWidgets.QPushButton(self)\n",
    "        self.btn_bol.setText('Böl')\n",
    "        self.btn_bol.move(150 , 250)\n",
    "        self.btn_bol.clicked.connect(self.hesapla)\n",
    "        \n",
    "        self.lbl_sonuc = QtWidgets.QLabel(self)\n",
    "        self.lbl_sonuc.setText(\"Sonuç: \")\n",
    "        self.lbl_sonuc.move(150,280)\n",
    "        \n",
    "    def hesapla(self):\n",
    "        sender = self.sender().text()\n",
    "        result = 0\n",
    "        \n",
    "        if sender == 'Topla':\n",
    "            result = int(self.txt_sayi1.text()) + int(self.txt_sayi2.text())\n",
    "        elif sender == 'Çıkar':\n",
    "            result = int(self.txt_sayi1.text()) - int(self.txt_sayi2.text())\n",
    "        elif sender == 'Çarp':\n",
    "            result = int(self.txt_sayi1.text()) * int(self.txt_sayi2.text())\n",
    "        elif sender == 'Böl':\n",
    "            result = int(self.txt_sayi1.text()) / int(self.txt_sayi2.text())\n",
    "        \n",
    "        self.lbl_sonuc.setText('Sonuç: ' + str(result))      \n",
    "def app():\n",
    "    app = QApplication(sys.argv)\n",
    "    win = MainForm()\n",
    "    win.show()\n",
    "    sys.exit(app.exec_())\n",
    "app()"
   ]
  },
  {
   "cell_type": "code",
   "execution_count": null,
   "id": "a2ab0496",
   "metadata": {},
   "outputs": [],
   "source": []
  }
 ],
 "metadata": {
  "kernelspec": {
   "display_name": "Python 3 (ipykernel)",
   "language": "python",
   "name": "python3"
  },
  "language_info": {
   "codemirror_mode": {
    "name": "ipython",
    "version": 3
   },
   "file_extension": ".py",
   "mimetype": "text/x-python",
   "name": "python",
   "nbconvert_exporter": "python",
   "pygments_lexer": "ipython3",
   "version": "3.9.7"
  }
 },
 "nbformat": 4,
 "nbformat_minor": 5
}
